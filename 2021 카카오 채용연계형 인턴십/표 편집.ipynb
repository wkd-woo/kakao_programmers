{
 "cells": [
  {
   "cell_type": "markdown",
   "metadata": {},
   "source": [
    "# BC"
   ]
  },
  {
   "cell_type": "code",
   "execution_count": null,
   "metadata": {},
   "outputs": [],
   "source": [
    "class LinkedList:\n",
    "    class Node:\n",
    "        def __init__(self, num, prev):\n",
    "            self.num = num\n",
    "            self.prev = prev\n",
    "            self.next = None\n",
    "\n",
    "    def __init__(self, num, start):\n",
    "        self.root = self.Node(0, None)\n",
    "        self.current = None\n",
    "        self.stack = []\n",
    "        temp = self.root\n",
    "        for i in range(1, num):\n",
    "            new_node = self.Node(i, temp)\n",
    "            temp.next = new_node\n",
    "            if i == start:\n",
    "                self.current = new_node\n",
    "            temp = new_node\n",
    "\n",
    "    def up(self, num):\n",
    "        for _ in range(num):\n",
    "            if self.current.prev:\n",
    "                self.current = self.current.prev\n",
    "\n",
    "    def down(self, num):\n",
    "        for _ in range(num):\n",
    "            if self.current.next:\n",
    "                self.current = self.current.next\n",
    "\n",
    "    def remove(self):\n",
    "        remove_node = self.current\n",
    "        self.stack.append(remove_node)\n",
    "        if remove_node.next:\n",
    "            if remove_node == self.root:\n",
    "                self.root = remove_node.next\n",
    "            self.current = remove_node.next\n",
    "            self.current.prev = remove_node.prev\n",
    "            if remove_node.prev:\n",
    "                remove_node.prev.next = self.current\n",
    "        else:\n",
    "            self.current = remove_node.prev\n",
    "            self.current.next = None\n",
    "\n",
    "    def recover(self):\n",
    "        recover_node = self.stack.pop()\n",
    "        if recover_node.prev:\n",
    "            recover_node.prev.next = recover_node\n",
    "        if recover_node.next:\n",
    "            recover_node.next.prev = recover_node\n",
    "            if recover_node.next == self.root:\n",
    "                self.root = recover_node\n",
    "\n",
    "    def get_root(self):\n",
    "        return self.root\n",
    "\n",
    "    def __bool__(self):\n",
    "        return True\n",
    "\n",
    "\n",
    "def solution(n, k, cmd):\n",
    "    table = LinkedList(n, k)\n",
    "    for c in cmd:\n",
    "        if c[0] == 'U':\n",
    "            table.up(int(c.split()[1]))\n",
    "        elif c[0] == 'D':\n",
    "            table.down(int(c.split()[1]))\n",
    "        elif c[0] == 'C':\n",
    "            table.remove()\n",
    "        else:\n",
    "            table.recover()\n",
    "    node = table.get_root()\n",
    "    result = [\"X\"] * n\n",
    "    while node:\n",
    "        result[node.num] = \"O\"\n",
    "        node = node.next\n",
    "    return \"\".join(result)\n"
   ]
  },
  {
   "cell_type": "markdown",
   "metadata": {},
   "source": [
    "## 투 포인터(내 풀이), 효율성 2/10"
   ]
  }
 ],
 "metadata": {
  "kernelspec": {
   "display_name": "Python 3.8.6 ('venv': venv)",
   "language": "python",
   "name": "python3"
  },
  "language_info": {
   "codemirror_mode": {
    "name": "ipython",
    "version": 2
   },
   "file_extension": ".py",
   "mimetype": "text/x-python",
   "name": "python",
   "nbconvert_exporter": "python",
   "pygments_lexer": "ipython2",
   "version": "3.8.6"
  },
  "vscode": {
   "interpreter": {
    "hash": "c43b14a435963106eada6da755edcc33459ef80a0dc081024268039b3c0e3f74"
   }
  }
 },
 "nbformat": 4,
 "nbformat_minor": 0
}
